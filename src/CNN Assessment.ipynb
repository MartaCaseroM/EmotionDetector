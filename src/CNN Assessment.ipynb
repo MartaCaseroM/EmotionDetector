{
 "cells": [
  {
   "cell_type": "code",
   "execution_count": 1,
   "metadata": {},
   "outputs": [],
   "source": [
    "import os\n",
    "import matplotlib.pyplot as plt\n",
    "import pandas as pd\n",
    "import numpy as np\n",
    "import tensorflow as tf\n",
    "from tensorflow.keras.preprocessing.image import ImageDataGenerator\n",
    "#from tensorflow.keras.models import Sequential\n",
    "#from tensorflow.keras.layers import Conv2D, MaxPooling2D, Flatten, Dense, Dropout\n",
    "from tensorflow.keras import layers\n",
    "from tensorflow.keras import models"
   ]
  },
  {
   "cell_type": "code",
   "execution_count": 2,
   "metadata": {},
   "outputs": [],
   "source": [
    "# Define data directories\n",
    "train_dir = \"../data/train1\"\n",
    "validation_dir = \"../data/validation\"\n",
    "test_dir = \"../data/test\"\n",
    "\n",
    "# Image dimensions and other parameters\n",
    "img_width, img_height = 48,48\n",
    "batch_size = 64\n",
    "\n",
    "train_datagen = ImageDataGenerator(rescale=1./255)\n",
    "test_datagen = ImageDataGenerator(rescale=1./255)"
   ]
  },
  {
   "cell_type": "code",
   "execution_count": 3,
   "metadata": {},
   "outputs": [
    {
     "name": "stdout",
     "output_type": "stream",
     "text": [
      "Found 14357 images belonging to 7 classes.\n",
      "Found 14352 images belonging to 7 classes.\n"
     ]
    }
   ],
   "source": [
    "# Generate batches of image data (train and validation)\n",
    "train_generator = train_datagen.flow_from_directory(\n",
    "    train_dir,\n",
    "    target_size=(img_width, img_height),\n",
    "    batch_size=batch_size,\n",
    "    class_mode='categorical'\n",
    ")\n",
    "\n",
    "validation_generator = test_datagen.flow_from_directory(\n",
    "    validation_dir,\n",
    "    target_size=(img_width, img_height),\n",
    "    batch_size=batch_size,\n",
    "    class_mode='categorical'\n",
    ")\n"
   ]
  },
  {
   "cell_type": "markdown",
   "metadata": {},
   "source": [
    "Del notebook \"SEarchCNNStructure\" pudimos encontrar que la estructura de CNN óptima era la del Trial 63. A continuación se muestran los parámetros de la estructura óptima encontrada:"
   ]
  },
  {
   "cell_type": "markdown",
   "metadata": {},
   "source": [
    "Trial 153 summary\n",
    "\n",
    "Hyperparameters:\n",
    "\n",
    "conv_filters_1: 16\n",
    "conv_kernel_1: 3\n",
    "num_conv_layers: 3\n",
    "conv_filters_2: 128\n",
    "conv_kernel_2: 5\n",
    "num_dense_layers: 2\n",
    "dense_units_1: 256\n",
    "conv_filters_3: 128\n",
    "conv_kernel_3: 3\n",
    "conv_filters_4: 128\n",
    "conv_kernel_4: 5\n",
    "conv_filters_5: 128\n",
    "conv_kernel_5: 5\n",
    "conv_filters_6: 96\n",
    "conv_kernel_6: 5\n",
    "dense_units_2: 32\n",
    "dense_units_3: 128\n",
    "dense_units_4: 32\n",
    "conv_filters_7: 16\n",
    "conv_kernel_7: 3\n",
    "Score: 0.5441053509712219"
   ]
  },
  {
   "cell_type": "markdown",
   "metadata": {},
   "source": [
    "## CNN From scratch "
   ]
  },
  {
   "cell_type": "code",
   "execution_count": 4,
   "metadata": {},
   "outputs": [],
   "source": [
    "# Define the CNN model\n",
    "# Vamos a tener: 4 capas convolucionales (intercaladas con capas MaxPooling) y 3 capas densas (la última con units = nºclases de los datos --> 7)\n",
    "\n",
    "model = models.Sequential()\n",
    "model.add(layers.Conv2D(16, (3,3), activation='relu', input_shape=(img_width, img_height, 3), padding='same'))\n",
    "model.add(layers.MaxPooling2D(pool_size=(2, 2), padding='same'))\n",
    "\n",
    "model.add(layers.Conv2D(128, (5,5), activation='relu', padding='same'))\n",
    "model.add(layers.MaxPooling2D(pool_size=(2, 2), padding='same'))\n",
    "\n",
    "model.add(layers.Conv2D(128, (3,3), activation='relu', padding='same'))\n",
    "model.add(layers.MaxPooling2D(pool_size=(2, 2), padding='same'))\n",
    "\n",
    "model.add(layers.Conv2D(128, (5,5), activation='relu', padding='same'))\n",
    "model.add(layers.MaxPooling2D(pool_size=(2, 2), padding='same'))\n",
    "\n",
    "# Flatten layer\n",
    "model.add(layers.Flatten())\n",
    "\n",
    "# Dense layers\n",
    "model.add(layers.Dense(256, activation='relu'))\n",
    "model.add(layers.Dense(32, activation='relu'))\n",
    "\n",
    "# Output layer\n",
    "model.add(layers.Dense(7, activation='softmax'))  # 7 output classes (emotions)"
   ]
  },
  {
   "cell_type": "code",
   "execution_count": 5,
   "metadata": {},
   "outputs": [
    {
     "name": "stdout",
     "output_type": "stream",
     "text": [
      "Model: \"sequential\"\n",
      "_________________________________________________________________\n",
      " Layer (type)                Output Shape              Param #   \n",
      "=================================================================\n",
      " conv2d (Conv2D)             (None, 48, 48, 16)        448       \n",
      "                                                                 \n",
      " max_pooling2d (MaxPooling2D  (None, 24, 24, 16)       0         \n",
      " )                                                               \n",
      "                                                                 \n",
      " conv2d_1 (Conv2D)           (None, 24, 24, 128)       51328     \n",
      "                                                                 \n",
      " max_pooling2d_1 (MaxPooling  (None, 12, 12, 128)      0         \n",
      " 2D)                                                             \n",
      "                                                                 \n",
      " conv2d_2 (Conv2D)           (None, 12, 12, 128)       147584    \n",
      "                                                                 \n",
      " max_pooling2d_2 (MaxPooling  (None, 6, 6, 128)        0         \n",
      " 2D)                                                             \n",
      "                                                                 \n",
      " conv2d_3 (Conv2D)           (None, 6, 6, 128)         409728    \n",
      "                                                                 \n",
      " max_pooling2d_3 (MaxPooling  (None, 3, 3, 128)        0         \n",
      " 2D)                                                             \n",
      "                                                                 \n",
      " flatten (Flatten)           (None, 1152)              0         \n",
      "                                                                 \n",
      " dense (Dense)               (None, 256)               295168    \n",
      "                                                                 \n",
      " dense_1 (Dense)             (None, 32)                8224      \n",
      "                                                                 \n",
      " dense_2 (Dense)             (None, 7)                 231       \n",
      "                                                                 \n",
      "=================================================================\n",
      "Total params: 912,711\n",
      "Trainable params: 912,711\n",
      "Non-trainable params: 0\n",
      "_________________________________________________________________\n"
     ]
    }
   ],
   "source": [
    "model.summary()"
   ]
  },
  {
   "cell_type": "code",
   "execution_count": 6,
   "metadata": {},
   "outputs": [
    {
     "name": "stdout",
     "output_type": "stream",
     "text": [
      "Epoch 1/200\n",
      "224/224 [==============================] - 21s 66ms/step - loss: 1.8117 - accuracy: 0.2494 - val_loss: 1.7709 - val_accuracy: 0.2676\n",
      "Epoch 2/200\n",
      "224/224 [==============================] - 5s 24ms/step - loss: 1.6273 - accuracy: 0.3547 - val_loss: 1.5523 - val_accuracy: 0.3846\n",
      "Epoch 3/200\n",
      "224/224 [==============================] - 5s 23ms/step - loss: 1.4373 - accuracy: 0.4415 - val_loss: 1.4077 - val_accuracy: 0.4527\n",
      "Epoch 4/200\n",
      "224/224 [==============================] - 5s 23ms/step - loss: 1.2988 - accuracy: 0.4985 - val_loss: 1.3430 - val_accuracy: 0.4856\n",
      "Epoch 5/200\n",
      "224/224 [==============================] - 5s 24ms/step - loss: 1.1772 - accuracy: 0.5545 - val_loss: 1.2801 - val_accuracy: 0.5073\n",
      "Epoch 6/200\n",
      "224/224 [==============================] - 5s 23ms/step - loss: 1.0637 - accuracy: 0.6009 - val_loss: 1.2695 - val_accuracy: 0.5225\n",
      "Epoch 7/200\n",
      "224/224 [==============================] - 5s 23ms/step - loss: 0.9350 - accuracy: 0.6535 - val_loss: 1.3005 - val_accuracy: 0.5231\n",
      "Epoch 8/200\n",
      "224/224 [==============================] - 5s 23ms/step - loss: 0.7864 - accuracy: 0.7120 - val_loss: 1.4556 - val_accuracy: 0.5123\n",
      "Epoch 9/200\n",
      "224/224 [==============================] - 5s 23ms/step - loss: 0.6385 - accuracy: 0.7663 - val_loss: 1.4689 - val_accuracy: 0.5204\n",
      "Epoch 10/200\n",
      "224/224 [==============================] - 5s 23ms/step - loss: 0.4854 - accuracy: 0.8263 - val_loss: 1.6793 - val_accuracy: 0.5148\n",
      "Epoch 11/200\n",
      "224/224 [==============================] - 5s 23ms/step - loss: 0.3482 - accuracy: 0.8778 - val_loss: 2.0029 - val_accuracy: 0.5167\n",
      "Epoch 12/200\n",
      "224/224 [==============================] - 5s 24ms/step - loss: 0.2662 - accuracy: 0.9083 - val_loss: 2.2390 - val_accuracy: 0.5165\n",
      "Epoch 13/200\n",
      "224/224 [==============================] - 5s 23ms/step - loss: 0.2103 - accuracy: 0.9273 - val_loss: 2.5644 - val_accuracy: 0.5272\n",
      "Epoch 14/200\n",
      "224/224 [==============================] - 5s 24ms/step - loss: 0.1642 - accuracy: 0.9425 - val_loss: 2.5985 - val_accuracy: 0.5148\n",
      "Epoch 15/200\n",
      "224/224 [==============================] - 6s 25ms/step - loss: 0.1201 - accuracy: 0.9626 - val_loss: 3.0047 - val_accuracy: 0.5092\n",
      "Epoch 16/200\n",
      "224/224 [==============================] - 6s 25ms/step - loss: 0.1111 - accuracy: 0.9633 - val_loss: 2.9893 - val_accuracy: 0.5248\n",
      "Epoch 17/200\n",
      "224/224 [==============================] - 5s 23ms/step - loss: 0.1244 - accuracy: 0.9587 - val_loss: 3.1846 - val_accuracy: 0.5087\n",
      "Epoch 18/200\n",
      "224/224 [==============================] - 5s 23ms/step - loss: 0.1111 - accuracy: 0.9614 - val_loss: 3.1546 - val_accuracy: 0.5128\n",
      "Epoch 19/200\n",
      "224/224 [==============================] - 5s 23ms/step - loss: 0.0917 - accuracy: 0.9693 - val_loss: 3.4006 - val_accuracy: 0.5136\n",
      "Epoch 20/200\n",
      "224/224 [==============================] - 5s 22ms/step - loss: 0.0865 - accuracy: 0.9717 - val_loss: 3.2974 - val_accuracy: 0.5084\n",
      "Epoch 21/200\n",
      "224/224 [==============================] - 5s 23ms/step - loss: 0.0796 - accuracy: 0.9729 - val_loss: 3.5912 - val_accuracy: 0.5001\n",
      "Epoch 22/200\n",
      "224/224 [==============================] - 5s 23ms/step - loss: 0.0577 - accuracy: 0.9824 - val_loss: 3.8069 - val_accuracy: 0.5167\n",
      "Epoch 23/200\n",
      "224/224 [==============================] - 5s 23ms/step - loss: 0.0832 - accuracy: 0.9748 - val_loss: 3.4113 - val_accuracy: 0.5091\n"
     ]
    }
   ],
   "source": [
    "# Compile the model\n",
    "from keras import callbacks\n",
    "num_epochs = 200\n",
    "earlystopping = callbacks.EarlyStopping(monitor=\"val_accuracy\",\n",
    "                                        patience=10,\n",
    "                                        restore_best_weights=True)\n",
    "\n",
    "\n",
    "model.compile(loss='categorical_crossentropy',\n",
    "              optimizer='adam',\n",
    "              metrics=['accuracy'])\n",
    "\n",
    "# Train the model\n",
    "history = model.fit(\n",
    "    train_generator,\n",
    "    steps_per_epoch=train_generator.samples // batch_size,\n",
    "    epochs=num_epochs,\n",
    "    validation_data=validation_generator,\n",
    "    validation_steps=validation_generator.samples // batch_size,\n",
    "    callbacks=[earlystopping]\n",
    ")\n",
    "\n",
    "model.save('model_orig.h5')\n",
    "\n"
   ]
  },
  {
   "cell_type": "code",
   "execution_count": 7,
   "metadata": {},
   "outputs": [
    {
     "data": {
      "text/html": [
       "<div>\n",
       "<style scoped>\n",
       "    .dataframe tbody tr th:only-of-type {\n",
       "        vertical-align: middle;\n",
       "    }\n",
       "\n",
       "    .dataframe tbody tr th {\n",
       "        vertical-align: top;\n",
       "    }\n",
       "\n",
       "    .dataframe thead th {\n",
       "        text-align: right;\n",
       "    }\n",
       "</style>\n",
       "<table border=\"1\" class=\"dataframe\">\n",
       "  <thead>\n",
       "    <tr style=\"text-align: right;\">\n",
       "      <th></th>\n",
       "      <th>loss</th>\n",
       "      <th>accuracy</th>\n",
       "      <th>val_loss</th>\n",
       "      <th>val_accuracy</th>\n",
       "    </tr>\n",
       "  </thead>\n",
       "  <tbody>\n",
       "    <tr>\n",
       "      <th>0</th>\n",
       "      <td>1.811733</td>\n",
       "      <td>0.249353</td>\n",
       "      <td>1.770939</td>\n",
       "      <td>0.267648</td>\n",
       "    </tr>\n",
       "    <tr>\n",
       "      <th>1</th>\n",
       "      <td>1.627331</td>\n",
       "      <td>0.354719</td>\n",
       "      <td>1.552297</td>\n",
       "      <td>0.384626</td>\n",
       "    </tr>\n",
       "    <tr>\n",
       "      <th>2</th>\n",
       "      <td>1.437343</td>\n",
       "      <td>0.441475</td>\n",
       "      <td>1.407715</td>\n",
       "      <td>0.452706</td>\n",
       "    </tr>\n",
       "    <tr>\n",
       "      <th>3</th>\n",
       "      <td>1.298846</td>\n",
       "      <td>0.498496</td>\n",
       "      <td>1.342977</td>\n",
       "      <td>0.485561</td>\n",
       "    </tr>\n",
       "    <tr>\n",
       "      <th>4</th>\n",
       "      <td>1.177194</td>\n",
       "      <td>0.554467</td>\n",
       "      <td>1.280066</td>\n",
       "      <td>0.507254</td>\n",
       "    </tr>\n",
       "  </tbody>\n",
       "</table>\n",
       "</div>"
      ],
      "text/plain": [
       "       loss  accuracy  val_loss  val_accuracy\n",
       "0  1.811733  0.249353  1.770939      0.267648\n",
       "1  1.627331  0.354719  1.552297      0.384626\n",
       "2  1.437343  0.441475  1.407715      0.452706\n",
       "3  1.298846  0.498496  1.342977      0.485561\n",
       "4  1.177194  0.554467  1.280066      0.507254"
      ]
     },
     "execution_count": 7,
     "metadata": {},
     "output_type": "execute_result"
    }
   ],
   "source": [
    "df_history = pd.DataFrame(history.history)\n",
    "df_history.head()"
   ]
  },
  {
   "cell_type": "code",
   "execution_count": 8,
   "metadata": {},
   "outputs": [
    {
     "data": {
      "text/plain": [
       "<Axes: title={'center': 'Losses'}, xlabel='Epochs', ylabel='Loss'>"
      ]
     },
     "execution_count": 8,
     "metadata": {},
     "output_type": "execute_result"
    },
    {
     "data": {
      "image/png": "[encoded data removed]",
      "text/plain": [
       "<Figure size 640x480 with 1 Axes>"
      ]
     },
     "metadata": {},
     "output_type": "display_data"
    }
   ],
   "source": [
    "df_history['loss'].plot(legend=True)\n",
    "df_history['val_loss'].plot(title='Losses', grid=True,\n",
    "                              xlabel='Epochs',\n",
    "                              ylabel='Loss',\n",
    "                              legend=True)"
   ]
  },
  {
   "cell_type": "code",
   "execution_count": 9,
   "metadata": {},
   "outputs": [
    {
     "data": {
      "text/plain": [
       "<Axes: title={'center': 'Accuracies'}, xlabel='Epochs', ylabel='Accuracy'>"
      ]
     },
     "execution_count": 9,
     "metadata": {},
     "output_type": "execute_result"
    },
    {
     "data": {
      "image/png": "[encoded data removed]",
      "text/plain": [
       "<Figure size 640x480 with 1 Axes>"
      ]
     },
     "metadata": {},
     "output_type": "display_data"
    }
   ],
   "source": [
    "df_history['accuracy'].plot(legend=True)\n",
    "df_history['val_accuracy'].plot(title='Accuracies', grid=True,\n",
    "                              xlabel='Epochs',\n",
    "                              ylabel='Accuracy',\n",
    "                              legend=True)"
   ]
  },
  {
   "cell_type": "code",
   "execution_count": 10,
   "metadata": {},
   "outputs": [
    {
     "name": "stdout",
     "output_type": "stream",
     "text": [
      "Found 7178 images belonging to 7 classes.\n",
      "113/113 - 4s - loss: 2.5803 - accuracy: 0.5270 - 4s/epoch - 31ms/step\n",
      "\n",
      "Test accuracy: 0.5270270109176636\n"
     ]
    }
   ],
   "source": [
    "test_generator = test_datagen.flow_from_directory(\n",
    "    test_dir,\n",
    "    target_size=(img_width, img_height),\n",
    "    batch_size=batch_size,\n",
    "    class_mode='categorical'\n",
    ")\n",
    "\n",
    "# Evaluate the model\n",
    "test_loss, test_acc = model.evaluate(test_generator, verbose=2)\n",
    "print(\"\\nTest accuracy:\", test_acc)"
   ]
  }
 ],
 "metadata": {
  "kernelspec": {
   "display_name": "tf",
   "language": "python",
   "name": "python3"
  },
  "language_info": {
   "codemirror_mode": {
    "name": "ipython",
    "version": 3
   },
   "file_extension": ".py",
   "mimetype": "text/x-python",
   "name": "python",
   "nbconvert_exporter": "python",
   "pygments_lexer": "ipython3",
   "version": "3.9.19"
  }
 },
 "nbformat": 4,
 "nbformat_minor": 2
}
