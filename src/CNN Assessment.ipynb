{
 "cells": [
  {
   "cell_type": "code",
   "execution_count": 1,
   "metadata": {},
   "outputs": [],
   "source": [
    "import os\n",
    "import matplotlib.pyplot as plt\n",
    "import pandas as pd\n",
    "import numpy as np\n",
    "import tensorflow as tf\n",
    "from tensorflow.keras.preprocessing.image import ImageDataGenerator\n",
    "#from tensorflow.keras.models import Sequential\n",
    "#from tensorflow.keras.layers import Conv2D, MaxPooling2D, Flatten, Dense, Dropout\n",
    "from tensorflow.keras import layers\n",
    "from tensorflow.keras import models"
   ]
  },
  {
   "cell_type": "code",
   "execution_count": 2,
   "metadata": {},
   "outputs": [],
   "source": [
    "# Define data directories\n",
    "train_dir = \"../data/train1\"\n",
    "validation_dir = \"../data/validation\"\n",
    "test_dir = \"../data/test\"\n",
    "\n",
    "# Image dimensions and other parameters\n",
    "img_width, img_height = 48,48\n",
    "batch_size = 64\n",
    "\n",
    "train_datagen = ImageDataGenerator(rescale=1./255)\n",
    "test_datagen = ImageDataGenerator(rescale=1./255)"
   ]
  },
  {
   "cell_type": "code",
   "execution_count": 3,
   "metadata": {},
   "outputs": [
    {
     "name": "stdout",
     "output_type": "stream",
     "text": [
      "Found 14357 images belonging to 7 classes.\n",
      "Found 14352 images belonging to 7 classes.\n"
     ]
    }
   ],
   "source": [
    "# Generate batches of image data (train and validation)\n",
    "train_generator = train_datagen.flow_from_directory(\n",
    "    train_dir,\n",
    "    target_size=(img_width, img_height),\n",
    "    batch_size=batch_size,\n",
    "    class_mode='categorical'\n",
    ")\n",
    "\n",
    "validation_generator = test_datagen.flow_from_directory(\n",
    "    validation_dir,\n",
    "    target_size=(img_width, img_height),\n",
    "    batch_size=batch_size,\n",
    "    class_mode='categorical'\n",
    ")\n"
   ]
  },
  {
   "cell_type": "markdown",
   "metadata": {},
   "source": [
    "Del notebook \"SEarchCNNStructure\" pudimos encontrar que la estructura de CNN óptima era la del Trial 63. A continuación se muestran los parámetros de la estructura óptima encontrada:"
   ]
  },
  {
   "cell_type": "markdown",
   "metadata": {},
   "source": [
    "Trial 153 summary\n",
    "\n",
    "Hyperparameters:\n",
    "\n",
    "conv_filters_1: 16\n",
    "conv_kernel_1: 3\n",
    "num_conv_layers: 3\n",
    "conv_filters_2: 128\n",
    "conv_kernel_2: 5\n",
    "num_dense_layers: 2\n",
    "dense_units_1: 256\n",
    "conv_filters_3: 128\n",
    "conv_kernel_3: 3\n",
    "conv_filters_4: 128\n",
    "conv_kernel_4: 5\n",
    "conv_filters_5: 128\n",
    "conv_kernel_5: 5\n",
    "conv_filters_6: 96\n",
    "conv_kernel_6: 5\n",
    "dense_units_2: 32\n",
    "dense_units_3: 128\n",
    "dense_units_4: 32\n",
    "conv_filters_7: 16\n",
    "conv_kernel_7: 3\n",
    "Score: 0.5441053509712219"
   ]
  },
  {
   "cell_type": "markdown",
   "metadata": {},
   "source": [
    "## CNN From scratch "
   ]
  },
  {
   "cell_type": "code",
   "execution_count": 4,
   "metadata": {},
   "outputs": [],
   "source": [
    "# Define the CNN model\n",
    "# Vamos a tener: 4 capas convolucionales (intercaladas con capas MaxPooling) y 3 capas densas (la última con units = nºclases de los datos --> 7)\n",
    "\n",
    "model = models.Sequential()\n",
    "model.add(layers.Conv2D(16, (3,3), activation='relu', input_shape=(img_width, img_height, 3), padding='same'))\n",
    "model.add(layers.MaxPooling2D(pool_size=(2, 2), padding='same'))\n",
    "\n",
    "model.add(layers.Conv2D(128, (5,5), activation='relu', padding='same'))\n",
    "model.add(layers.MaxPooling2D(pool_size=(2, 2), padding='same'))\n",
    "\n",
    "model.add(layers.Conv2D(128, (3,3), activation='relu', padding='same'))\n",
    "model.add(layers.MaxPooling2D(pool_size=(2, 2), padding='same'))\n",
    "\n",
    "model.add(layers.Conv2D(128, (5,5), activation='relu', padding='same'))\n",
    "model.add(layers.MaxPooling2D(pool_size=(2, 2), padding='same'))\n",
    "\n",
    "# Flatten layer\n",
    "model.add(layers.Flatten())\n",
    "\n",
    "# Dense layers\n",
    "model.add(layers.Dense(256, activation='relu'))\n",
    "model.add(layers.Dense(32, activation='relu'))\n",
    "\n",
    "# Output layer\n",
    "model.add(layers.Dense(7, activation='softmax'))  # 7 output classes (emotions)"
   ]
  },
  {
   "cell_type": "code",
   "execution_count": 5,
   "metadata": {},
   "outputs": [
    {
     "name": "stdout",
     "output_type": "stream",
     "text": [
      "Model: \"sequential\"\n",
      "_________________________________________________________________\n",
      " Layer (type)                Output Shape              Param #   \n",
      "=================================================================\n",
      " conv2d (Conv2D)             (None, 48, 48, 16)        448       \n",
      "                                                                 \n",
      " max_pooling2d (MaxPooling2D  (None, 24, 24, 16)       0         \n",
      " )                                                               \n",
      "                                                                 \n",
      " conv2d_1 (Conv2D)           (None, 24, 24, 128)       51328     \n",
      "                                                                 \n",
      " max_pooling2d_1 (MaxPooling  (None, 12, 12, 128)      0         \n",
      " 2D)                                                             \n",
      "                                                                 \n",
      " conv2d_2 (Conv2D)           (None, 12, 12, 128)       147584    \n",
      "                                                                 \n",
      " max_pooling2d_2 (MaxPooling  (None, 6, 6, 128)        0         \n",
      " 2D)                                                             \n",
      "                                                                 \n",
      " conv2d_3 (Conv2D)           (None, 6, 6, 128)         409728    \n",
      "                                                                 \n",
      " max_pooling2d_3 (MaxPooling  (None, 3, 3, 128)        0         \n",
      " 2D)                                                             \n",
      "                                                                 \n",
      " flatten (Flatten)           (None, 1152)              0         \n",
      "                                                                 \n",
      " dense (Dense)               (None, 256)               295168    \n",
      "                                                                 \n",
      " dense_1 (Dense)             (None, 32)                8224      \n",
      "                                                                 \n",
      " dense_2 (Dense)             (None, 7)                 231       \n",
      "                                                                 \n",
      "=================================================================\n",
      "Total params: 912,711\n",
      "Trainable params: 912,711\n",
      "Non-trainable params: 0\n",
      "_________________________________________________________________\n"
     ]
    }
   ],
   "source": [
    "model.summary()"
   ]
  },
  {
   "cell_type": "code",
   "execution_count": 11,
   "metadata": {},
   "outputs": [
    {
     "name": "stdout",
     "output_type": "stream",
     "text": [
      "Epoch 1/200\n",
      "448/448 [==============================] - 14s 31ms/step - loss: 0.6000 - accuracy: 0.7802 - val_loss: 1.4888 - val_accuracy: 0.5557\n",
      "Epoch 2/200\n",
      "448/448 [==============================] - 11s 25ms/step - loss: 0.5322 - accuracy: 0.8054 - val_loss: 1.5879 - val_accuracy: 0.5501\n",
      "Epoch 3/200\n",
      "448/448 [==============================] - 11s 24ms/step - loss: 0.4838 - accuracy: 0.8243 - val_loss: 1.6287 - val_accuracy: 0.5505\n",
      "Epoch 4/200\n",
      "448/448 [==============================] - 11s 24ms/step - loss: 0.4384 - accuracy: 0.8433 - val_loss: 1.7148 - val_accuracy: 0.5498\n",
      "Epoch 5/200\n",
      "448/448 [==============================] - 11s 24ms/step - loss: 0.4061 - accuracy: 0.8540 - val_loss: 1.7847 - val_accuracy: 0.5470\n",
      "Epoch 6/200\n",
      "448/448 [==============================] - 11s 25ms/step - loss: 0.3774 - accuracy: 0.8649 - val_loss: 1.9689 - val_accuracy: 0.5480\n",
      "Epoch 7/200\n",
      "448/448 [==============================] - 11s 24ms/step - loss: 0.3320 - accuracy: 0.8805 - val_loss: 2.1128 - val_accuracy: 0.5442\n",
      "Epoch 8/200\n",
      "448/448 [==============================] - 11s 24ms/step - loss: 0.3166 - accuracy: 0.8864 - val_loss: 1.9503 - val_accuracy: 0.5481\n",
      "Epoch 9/200\n",
      "448/448 [==============================] - 11s 25ms/step - loss: 0.2776 - accuracy: 0.9021 - val_loss: 2.0102 - val_accuracy: 0.5476\n",
      "Epoch 10/200\n",
      "448/448 [==============================] - 11s 24ms/step - loss: 0.2731 - accuracy: 0.9026 - val_loss: 2.1525 - val_accuracy: 0.5504\n",
      "Epoch 11/200\n",
      "448/448 [==============================] - 11s 25ms/step - loss: 0.2438 - accuracy: 0.9141 - val_loss: 2.3115 - val_accuracy: 0.5424\n",
      "113/113 - 2s - loss: 1.4886 - accuracy: 0.5559 - 2s/epoch - 19ms/step\n",
      "\n",
      "Test accuracy: 0.5558651685714722\n"
     ]
    }
   ],
   "source": [
    "# Compile the model\n",
    "from keras import callbacks\n",
    "num_epochs = 200\n",
    "earlystopping = callbacks.EarlyStopping(monitor=\"val_accuracy\",\n",
    "                                        patience=10,\n",
    "                                        restore_best_weights=True)\n",
    "\n",
    "\n",
    "model.compile(loss='categorical_crossentropy',\n",
    "              optimizer='adam',\n",
    "              metrics=['accuracy'])\n",
    "\n",
    "# Train the model\n",
    "history = model.fit(\n",
    "    train_generator,\n",
    "    steps_per_epoch=train_generator.samples // batch_size,\n",
    "    epochs=num_epochs,\n",
    "    validation_data=validation_generator,\n",
    "    validation_steps=validation_generator.samples // batch_size,\n",
    "    callbacks=[earlystopping]\n",
    ")\n",
    "\n",
    "model.save('model_orig.h5')\n",
    "\n"
   ]
  },
  {
   "cell_type": "code",
   "execution_count": 12,
   "metadata": {},
   "outputs": [
    {
     "data": {
      "text/html": [
       "<div>\n",
       "<style scoped>\n",
       "    .dataframe tbody tr th:only-of-type {\n",
       "        vertical-align: middle;\n",
       "    }\n",
       "\n",
       "    .dataframe tbody tr th {\n",
       "        vertical-align: top;\n",
       "    }\n",
       "\n",
       "    .dataframe thead th {\n",
       "        text-align: right;\n",
       "    }\n",
       "</style>\n",
       "<table border=\"1\" class=\"dataframe\">\n",
       "  <thead>\n",
       "    <tr style=\"text-align: right;\">\n",
       "      <th></th>\n",
       "      <th>loss</th>\n",
       "      <th>accuracy</th>\n",
       "      <th>val_loss</th>\n",
       "      <th>val_accuracy</th>\n",
       "    </tr>\n",
       "  </thead>\n",
       "  <tbody>\n",
       "    <tr>\n",
       "      <th>0</th>\n",
       "      <td>0.600033</td>\n",
       "      <td>0.780241</td>\n",
       "      <td>1.488788</td>\n",
       "      <td>0.555664</td>\n",
       "    </tr>\n",
       "    <tr>\n",
       "      <th>1</th>\n",
       "      <td>0.532247</td>\n",
       "      <td>0.805376</td>\n",
       "      <td>1.587936</td>\n",
       "      <td>0.550084</td>\n",
       "    </tr>\n",
       "    <tr>\n",
       "      <th>2</th>\n",
       "      <td>0.483814</td>\n",
       "      <td>0.824332</td>\n",
       "      <td>1.628710</td>\n",
       "      <td>0.550502</td>\n",
       "    </tr>\n",
       "    <tr>\n",
       "      <th>3</th>\n",
       "      <td>0.438389</td>\n",
       "      <td>0.843289</td>\n",
       "      <td>1.714790</td>\n",
       "      <td>0.549805</td>\n",
       "    </tr>\n",
       "    <tr>\n",
       "      <th>4</th>\n",
       "      <td>0.406067</td>\n",
       "      <td>0.854006</td>\n",
       "      <td>1.784681</td>\n",
       "      <td>0.547015</td>\n",
       "    </tr>\n",
       "  </tbody>\n",
       "</table>\n",
       "</div>"
      ],
      "text/plain": [
       "       loss  accuracy  val_loss  val_accuracy\n",
       "0  0.600033  0.780241  1.488788      0.555664\n",
       "1  0.532247  0.805376  1.587936      0.550084\n",
       "2  0.483814  0.824332  1.628710      0.550502\n",
       "3  0.438389  0.843289  1.714790      0.549805\n",
       "4  0.406067  0.854006  1.784681      0.547015"
      ]
     },
     "execution_count": 12,
     "metadata": {},
     "output_type": "execute_result"
    }
   ],
   "source": [
    "df_history = pd.DataFrame(history.history)\n",
    "df_history.head()"
   ]
  },
  {
   "cell_type": "code",
   "execution_count": 13,
   "metadata": {},
   "outputs": [
    {
     "data": {
      "text/plain": [
       "<Axes: title={'center': 'Losses'}, xlabel='Epochs', ylabel='Loss'>"
      ]
     },
     "execution_count": 13,
     "metadata": {},
     "output_type": "execute_result"
    },
    {
     "data": {
      "image/png": "[encoded data removed]",
      "text/plain": [
       "<Figure size 640x480 with 1 Axes>"
      ]
     },
     "metadata": {},
     "output_type": "display_data"
    }
   ],
   "source": [
    "df_history['loss'].plot(legend=True)\n",
    "df_history['val_loss'].plot(title='Losses', grid=True,\n",
    "                              xlabel='Epochs',\n",
    "                              ylabel='Loss',\n",
    "                              legend=True)"
   ]
  },
  {
   "cell_type": "code",
   "execution_count": 14,
   "metadata": {},
   "outputs": [
    {
     "data": {
      "text/plain": [
       "<Axes: title={'center': 'Accuracies'}, xlabel='Epochs', ylabel='Accuracy'>"
      ]
     },
     "execution_count": 14,
     "metadata": {},
     "output_type": "execute_result"
    },
    {
     "data": {
      "image/png": "[encoded data removed]",
      "text/plain": [
       "<Figure size 640x480 with 1 Axes>"
      ]
     },
     "metadata": {},
     "output_type": "display_data"
    }
   ],
   "source": [
    "df_history['accuracy'].plot(legend=True)\n",
    "df_history['val_accuracy'].plot(title='Accuracies', grid=True,\n",
    "                              xlabel='Epochs',\n",
    "                              ylabel='Accuracy',\n",
    "                              legend=True)"
   ]
  },
  {
   "cell_type": "code",
   "execution_count": null,
   "metadata": {},
   "outputs": [],
   "source": [
    "test_generator = test_datagen.flow_from_directory(\n",
    "    test_dir,\n",
    "    target_size=(img_width, img_height),\n",
    "    batch_size=batch_size,\n",
    "    class_mode='categorical'\n",
    ")\n",
    "\n",
    "# Evaluate the model\n",
    "test_loss, test_acc = model.evaluate(test_generator, verbose=2)\n",
    "print(\"\\nTest accuracy:\", test_acc)"
   ]
  }
 ],
 "metadata": {
  "kernelspec": {
   "display_name": "tf",
   "language": "python",
   "name": "python3"
  },
  "language_info": {
   "codemirror_mode": {
    "name": "ipython",
    "version": 3
   },
   "file_extension": ".py",
   "mimetype": "text/x-python",
   "name": "python",
   "nbconvert_exporter": "python",
   "pygments_lexer": "ipython3",
   "version": "3.9.19"
  }
 },
 "nbformat": 4,
 "nbformat_minor": 2
}
