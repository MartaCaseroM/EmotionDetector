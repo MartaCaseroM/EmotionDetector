{
 "cells": [
  {
   "cell_type": "markdown",
   "metadata": {},
   "source": [
    "This notebook has been used in order to create the validation set of images from the training set images. The train set of images has been divided by half in order to create a set of validation images. Folder /data/train includes all the original training set data from kaggle. After the execution of this notebook our training data set will be contained in folder /data/train1 and the valiation set of images in /data/validation"
   ]
  },
  {
   "cell_type": "code",
   "execution_count": 3,
   "metadata": {},
   "outputs": [],
   "source": [
    "import os\n",
    "import random\n",
    "import shutil\n",
    "\n",
    "def split_train_validation(source_dir, train_dir, validation_dir, split_ratio):\n",
    "   \n",
    "    if not os.path.exists(train_dir):\n",
    "        os.makedirs(train_dir)\n",
    "    if not os.path.exists(validation_dir):\n",
    "        os.makedirs(validation_dir)\n",
    "\n",
    "    \n",
    "    classes = os.listdir(source_dir)\n",
    "\n",
    "    for class_folder in classes:\n",
    "        class_path = os.path.join(source_dir, class_folder)\n",
    "        if os.path.isdir(class_path):\n",
    "            \n",
    "            train_class_path = os.path.join(train_dir, class_folder)\n",
    "            validation_class_path = os.path.join(validation_dir, class_folder)\n",
    "            if not os.path.exists(train_class_path):\n",
    "                os.makedirs(train_class_path)\n",
    "            if not os.path.exists(validation_class_path):\n",
    "                os.makedirs(validation_class_path)\n",
    "\n",
    "            \n",
    "            files = os.listdir(class_path)\n",
    "            num_files = len(files)\n",
    "\n",
    "            \n",
    "            num_to_move = int(split_ratio * num_files)\n",
    "            files_to_move = random.sample(files, num_to_move)\n",
    "\n",
    "            \n",
    "            for file in files_to_move:\n",
    "                src_file = os.path.join(class_path, file)\n",
    "                dest_file = os.path.join(validation_class_path, file)\n",
    "                shutil.move(src_file, dest_file)\n",
    "\n",
    "           \n",
    "            remaining_files = [f for f in files if f not in files_to_move]\n",
    "            for file in remaining_files:\n",
    "                src_file = os.path.join(class_path, file)\n",
    "                dest_file = os.path.join(train_class_path, file)\n",
    "                shutil.move(src_file, dest_file)\n",
    "\n",
    "train_dir = \"../data/train1\"\n",
    "source_train_dir = \"../data/train\"\n",
    "\n",
    "validation_dir = \"../data/validation\"\n",
    "split_ratio = 0.5\n",
    "\n",
    "split_train_validation(source_train_dir, train_dir, validation_dir, split_ratio)\n"
   ]
  }
 ],
 "metadata": {
  "kernelspec": {
   "display_name": "tf",
   "language": "python",
   "name": "python3"
  },
  "language_info": {
   "codemirror_mode": {
    "name": "ipython",
    "version": 3
   },
   "file_extension": ".py",
   "mimetype": "text/x-python",
   "name": "python",
   "nbconvert_exporter": "python",
   "pygments_lexer": "ipython3",
   "version": "3.9.19"
  }
 },
 "nbformat": 4,
 "nbformat_minor": 2
}
