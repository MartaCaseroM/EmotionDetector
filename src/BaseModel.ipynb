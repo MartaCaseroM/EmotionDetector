{
 "cells": [
  {
   "cell_type": "code",
   "execution_count": 6,
   "metadata": {},
   "outputs": [],
   "source": [
    "import os"
   ]
  },
  {
   "cell_type": "code",
   "execution_count": 20,
   "metadata": {},
   "outputs": [
    {
     "name": "stdout",
     "output_type": "stream",
     "text": [
      "Counting images in train folder:\n",
      "Training_10118481.jpg\n"
     ]
    },
    {
     "ename": "FileNotFoundError",
     "evalue": "[WinError 3] El sistema no puede encontrar la ruta especificada: 'Training_10118481.jpg'",
     "output_type": "error",
     "traceback": [
      "\u001b[1;31m---------------------------------------------------------------------------\u001b[0m",
      "\u001b[1;31mFileNotFoundError\u001b[0m                         Traceback (most recent call last)",
      "Cell \u001b[1;32mIn[20], line 25\u001b[0m\n\u001b[0;32m     23\u001b[0m \u001b[38;5;66;03m# Count images in train and test folders\u001b[39;00m\n\u001b[0;32m     24\u001b[0m \u001b[38;5;28mprint\u001b[39m(\u001b[38;5;124m\"\u001b[39m\u001b[38;5;124mCounting images in train folder:\u001b[39m\u001b[38;5;124m\"\u001b[39m)\n\u001b[1;32m---> 25\u001b[0m \u001b[43mcount_images_in_emotion_folders\u001b[49m\u001b[43m(\u001b[49m\u001b[43mos\u001b[49m\u001b[38;5;241;43m.\u001b[39;49m\u001b[43mpath\u001b[49m\u001b[38;5;241;43m.\u001b[39;49m\u001b[43mjoin\u001b[49m\u001b[43m(\u001b[49m\u001b[43mdata_dir\u001b[49m\u001b[43m,\u001b[49m\u001b[43m \u001b[49m\u001b[38;5;124;43m\"\u001b[39;49m\u001b[38;5;124;43mtrain\u001b[39;49m\u001b[38;5;124;43m\"\u001b[39;49m\u001b[43m)\u001b[49m\u001b[43m)\u001b[49m\n\u001b[0;32m     27\u001b[0m \u001b[38;5;28mprint\u001b[39m(\u001b[38;5;124m\"\u001b[39m\u001b[38;5;130;01m\\n\u001b[39;00m\u001b[38;5;124mCounting images in test folder:\u001b[39m\u001b[38;5;124m\"\u001b[39m)\n\u001b[0;32m     28\u001b[0m count_images_in_emotion_folders(os\u001b[38;5;241m.\u001b[39mpath\u001b[38;5;241m.\u001b[39mjoin(data_dir, \u001b[38;5;124m\"\u001b[39m\u001b[38;5;124mtest\u001b[39m\u001b[38;5;124m\"\u001b[39m))\n",
      "Cell \u001b[1;32mIn[20], line 15\u001b[0m, in \u001b[0;36mcount_images_in_emotion_folders\u001b[1;34m(root_dir)\u001b[0m\n\u001b[0;32m     12\u001b[0m \u001b[38;5;28;01mfor\u001b[39;00m emotion_folder \u001b[38;5;129;01min\u001b[39;00m os\u001b[38;5;241m.\u001b[39mlistdir(folder_path):\n\u001b[0;32m     14\u001b[0m     \u001b[38;5;28mprint\u001b[39m(emotion_folder)\n\u001b[1;32m---> 15\u001b[0m     num_images \u001b[38;5;241m=\u001b[39m  \u001b[43mos\u001b[49m\u001b[38;5;241;43m.\u001b[39;49m\u001b[43mlistdir\u001b[49m\u001b[43m(\u001b[49m\u001b[43memotion_folder\u001b[49m\u001b[43m)\u001b[49m\n\u001b[0;32m     16\u001b[0m     \u001b[38;5;28mprint\u001b[39m(\u001b[38;5;124m\"\u001b[39m\u001b[38;5;124mnum:\u001b[39m\u001b[38;5;124m\"\u001b[39m \u001b[38;5;241m+\u001b[39mnum_images)\n\u001b[0;32m     17\u001b[0m     emotion_count[emotion_folder] \u001b[38;5;241m=\u001b[39m num_images\n",
      "\u001b[1;31mFileNotFoundError\u001b[0m: [WinError 3] El sistema no puede encontrar la ruta especificada: 'Training_10118481.jpg'"
     ]
    }
   ],
   "source": [
    "import os\n",
    "\n",
    "# Path to the directory containing data\n",
    "data_dir = \"../data\"  # Assuming the notebook is inside the src folder\n",
    "\n",
    "# Function to count images in each emotion folder\n",
    "def count_images_in_emotion_folders(root_dir):\n",
    "    for folder in os.listdir(root_dir):\n",
    "        folder_path = os.path.join(root_dir, folder)\n",
    "        if os.path.isdir(folder_path):\n",
    "            emotion_count = {}\n",
    "            for emotion_folder in os.listdir(folder_path):\n",
    "                print(roo)\n",
    "                print(emotion_folder)\n",
    "                num_images =  os.listdir(emotion_folder)\n",
    "                print(\"num:\" +num_images)\n",
    "                emotion_count[emotion_folder] = num_images\n",
    "            print(f\"Images in {folder} folder:\")\n",
    "            for emotion, count in emotion_count.items():\n",
    "                print(f\"- {emotion}: {count} images\")\n",
    "            print()\n",
    "\n",
    "# Count images in train and test folders\n",
    "print(\"Counting images in train folder:\")\n",
    "count_images_in_emotion_folders(os.path.join(data_dir, \"train\"))\n",
    "\n",
    "print(\"\\nCounting images in test folder:\")\n",
    "count_images_in_emotion_folders(os.path.join(data_dir, \"test\"))\n"
   ]
  },
  {
   "cell_type": "code",
   "execution_count": null,
   "metadata": {},
   "outputs": [],
   "source": []
  }
 ],
 "metadata": {
  "kernelspec": {
   "display_name": "tf",
   "language": "python",
   "name": "python3"
  },
  "language_info": {
   "codemirror_mode": {
    "name": "ipython",
    "version": 3
   },
   "file_extension": ".py",
   "mimetype": "text/x-python",
   "name": "python",
   "nbconvert_exporter": "python",
   "pygments_lexer": "ipython3",
   "version": "3.9.19"
  }
 },
 "nbformat": 4,
 "nbformat_minor": 2
}
